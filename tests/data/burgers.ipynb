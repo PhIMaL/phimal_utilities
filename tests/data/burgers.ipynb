{
 "cells": [
  {
   "cell_type": "code",
   "execution_count": 1,
   "metadata": {},
   "outputs": [],
   "source": [
    "import numpy as np\n",
    "import matplotlib.pyplot as plt"
   ]
  },
  {
   "cell_type": "code",
   "execution_count": 65,
   "metadata": {},
   "outputs": [],
   "source": [
    "import numpy as np\n",
    "from scipy.special import erfc\n",
    "\n",
    "class Burgers:\n",
    "    ''' Class to generate analytical solutions of Burgers equation from delta peak. \n",
    "    \n",
    "    Good source: https://www.iist.ac.in/sites/default/files/people/IN08026/Burgers_equation_viscous.pdf'''\n",
    "    def __init__(self, viscosity, A):\n",
    "        self.v = viscosity\n",
    "        self.A = A\n",
    "    \n",
    "    \n",
    "    def solution(self, x, t):\n",
    "        return self.u(x, t, self.v, self.A)\n",
    "    \n",
    "    def library(self, x, t):\n",
    "        u = self.u(x, t, self.v, self.A)\n",
    "        u_t = self.u_t(x, t, self.v, self.A)\n",
    "        u_x = self.u_x(x, t, self.v, self.A)\n",
    "        u_xx = self.u_xx(x, t, self.v, self.A)\n",
    "        u_xxx = self.u_xxx(x, t, self.v, self.A)\n",
    "  \n",
    "        derivs = np.concatenate([np.ones_like(u), u_x, u_xx, u_xxx], axis=1)\n",
    "        theta = np.concatenate([derivs, u * derivs, u**2 * derivs], axis=1)\n",
    "\n",
    "        return u_t, theta\n",
    "    \n",
    "    @staticmethod\n",
    "    def u(x, t, v, A):\n",
    "        R = A/(2*v)\n",
    "        z = x/np.sqrt(4*v*t)\n",
    "        \n",
    "        solution = np.sqrt(v/t) * ((np.exp(R) - 1) * np.exp(-z**2)) / (np.sqrt(np.pi) + (np.exp(R) - 1)*np.sqrt(np.pi/2)*erfc(z))\n",
    "        return solution\n",
    "    \n",
    "    @staticmethod\n",
    "    def u_x(x, t, v, A):\n",
    "        R = A/(2*v)\n",
    "        z = x/np.sqrt(4*v*t)\n",
    "        \n",
    "        u = Burgers.u(x, t, v, A)\n",
    "        u_x = 1/np.sqrt(4*v*t) * (np.sqrt(2*t/v)*u**2-2*z*u)\n",
    "        return u_x\n",
    "    \n",
    "    @staticmethod\n",
    "    def u_xx(x, t, v, A):\n",
    "        R = A/(2*v)\n",
    "        z = x/np.sqrt(4*v*t)\n",
    "        \n",
    "        u = Burgers.u(x, t, v, A)\n",
    "        u_x = Burgers.u_x(x, t, v, A)\n",
    "        u_xx = 1/np.sqrt(4*v*t) * (-2*u/np.sqrt(4*v*t) - 2*z*u_x + 2*np.sqrt(2*t/v)*u*u_x) # could be written shorter, but then get NaNs due to inversions\n",
    "        return u_xx\n",
    "    \n",
    "    @staticmethod\n",
    "    def u_xxx(x, t, v, A):\n",
    "        R = A/(2*v)\n",
    "        z = x/np.sqrt(4*v*t)\n",
    "        \n",
    "        u = Burgers.u(x, t, v, A)\n",
    "        u_x = Burgers.u_x(x, t, v, A)\n",
    "        u_xx = Burgers.u_xx(x, t, v, A)\n",
    "        u_xxx = 1/np.sqrt(4*v*t) * (-4/np.sqrt(4*v*t) * u_x + 2 *np.sqrt(2*t/v)*u_x**2 + u_xx*(-2*z+2*np.sqrt(2*t/v)*u)) # could be written shorter, but then get NaNs due to inversions\n",
    "        return u_xxx\n",
    "    \n",
    "    @staticmethod\n",
    "    def u_t(x, t, v, A):\n",
    "        R = A/(2*v)\n",
    "        z = x/np.sqrt(4*v*t)\n",
    "        \n",
    "        u = Burgers.u(x, t, v, A)\n",
    "        u_x = Burgers.u_x(x, t, v, A)\n",
    "        u_xx = 1/np.sqrt(4*v*t) * (-2*u/np.sqrt(4*v*t) - 2*z*u_x + 2*np.sqrt(2*t/v)*u*u_x)\n",
    "        u_t = v * u_xx - u *u_x\n",
    "        return u_t"
   ]
  },
  {
   "cell_type": "code",
   "execution_count": 2,
   "metadata": {},
   "outputs": [],
   "source": [
    "from DeePyMoD_SBL.data import Burgers"
   ]
  },
  {
   "cell_type": "code",
   "execution_count": 3,
   "metadata": {},
   "outputs": [],
   "source": [
    "x = np.linspace(-1, 1, 1000)\n",
    "t = np.linspace(1e-4, 5, 1000)\n",
    "\n",
    "x_grid, t_grid = np.meshgrid(x, t, indexing='ij')\n",
    "\n",
    "A = 1\n",
    "viscosity = 0.1"
   ]
  },
  {
   "cell_type": "code",
   "execution_count": 4,
   "metadata": {},
   "outputs": [],
   "source": [
    "burgers = Burgers(viscosity, A)"
   ]
  },
  {
   "cell_type": "code",
   "execution_count": 5,
   "metadata": {},
   "outputs": [],
   "source": [
    "sol = burgers.solution(x_grid, t_grid)"
   ]
  },
  {
   "cell_type": "code",
   "execution_count": 6,
   "metadata": {},
   "outputs": [
    {
     "data": {
      "text/plain": [
       "(1000, 1000)"
      ]
     },
     "execution_count": 6,
     "metadata": {},
     "output_type": "execute_result"
    }
   ],
   "source": [
    "sol.shape"
   ]
  },
  {
   "cell_type": "code",
   "execution_count": 7,
   "metadata": {},
   "outputs": [
    {
     "data": {
      "text/plain": [
       "[<matplotlib.lines.Line2D at 0x7f48685014e0>]"
      ]
     },
     "execution_count": 7,
     "metadata": {},
     "output_type": "execute_result"
    },
    {
     "data": {
      "image/png": "[encoded data removed]",
      "text/plain": [
       "<Figure size 432x288 with 1 Axes>"
      ]
     },
     "metadata": {
      "needs_background": "light"
     },
     "output_type": "display_data"
    }
   ],
   "source": [
    "plt.plot(x, sol[:, 49])\n",
    "plt.plot(x, sol[:, 10])"
   ]
  },
  {
   "cell_type": "code",
   "execution_count": 8,
   "metadata": {},
   "outputs": [],
   "source": [
    "sol_x = burgers.u_x(x_grid, t_grid, viscosity, A)"
   ]
  },
  {
   "cell_type": "code",
   "execution_count": 9,
   "metadata": {},
   "outputs": [
    {
     "data": {
      "text/plain": [
       "[<matplotlib.lines.Line2D at 0x7f48653b9a20>]"
      ]
     },
     "execution_count": 9,
     "metadata": {},
     "output_type": "execute_result"
    },
    {
     "data": {
      "image/png": "[encoded data removed]",
      "text/plain": [
       "<Figure size 432x288 with 1 Axes>"
      ]
     },
     "metadata": {
      "needs_background": "light"
     },
     "output_type": "display_data"
    }
   ],
   "source": [
    "frame = 10\n",
    "plt.plot(x, sol_x[:, frame], 'r')\n",
    "plt.plot(x, np.gradient(sol[:, frame], x), 'k--')"
   ]
  },
  {
   "cell_type": "code",
   "execution_count": 10,
   "metadata": {},
   "outputs": [
    {
     "data": {
      "text/plain": [
       "array([[ 0.00000000e+000, -2.73045876e-209, -1.60116608e-105, ...,\n",
       "         1.10510381e-009,  1.11929788e-009,  1.13340395e-009],\n",
       "       [ 0.00000000e+000, -1.91565826e-208, -4.27012578e-105, ...,\n",
       "         1.17088478e-009,  1.18490225e-009,  1.19882471e-009],\n",
       "       [ 0.00000000e+000, -1.33872359e-207, -1.13652481e-104, ...,\n",
       "         1.23661123e-009,  1.25043893e-009,  1.26418760e-009],\n",
       "       ...,\n",
       "       [ 0.00000000e+000,  1.98684197e-205,  1.68675237e-102, ...,\n",
       "         9.89531440e-008,  9.86491637e-008,  9.83465989e-008],\n",
       "       [ 0.00000000e+000,  2.84308894e-206,  6.33742857e-103, ...,\n",
       "         9.93803453e-008,  9.90748435e-008,  9.87706073e-008],\n",
       "       [ 0.00000000e+000,  4.05236011e-207,  2.37634116e-103, ...,\n",
       "         9.98097245e-008,  9.95025789e-008,  9.91967034e-008]])"
      ]
     },
     "execution_count": 10,
     "metadata": {},
     "output_type": "execute_result"
    }
   ],
   "source": [
    "(sol_x - np.gradient(sol, x, axis=0))[1:-1]"
   ]
  },
  {
   "cell_type": "code",
   "execution_count": null,
   "metadata": {},
   "outputs": [],
   "source": []
  },
  {
   "cell_type": "code",
   "execution_count": 11,
   "metadata": {},
   "outputs": [],
   "source": [
    "sol_xx = burgers.u_xx(x_grid, t_grid, viscosity, A)"
   ]
  },
  {
   "cell_type": "code",
   "execution_count": 12,
   "metadata": {},
   "outputs": [
    {
     "data": {
      "text/plain": [
       "[<matplotlib.lines.Line2D at 0x7f4865327e10>]"
      ]
     },
     "execution_count": 12,
     "metadata": {},
     "output_type": "execute_result"
    },
    {
     "data": {
      "image/png": "[encoded data removed]",
      "text/plain": [
       "<Figure size 432x288 with 1 Axes>"
      ]
     },
     "metadata": {
      "needs_background": "light"
     },
     "output_type": "display_data"
    }
   ],
   "source": [
    "frame = 10\n",
    "plt.plot(x, sol_xx[:, frame], 'r')\n",
    "plt.plot(x, np.gradient(sol_x[:, frame], x), 'k--')"
   ]
  },
  {
   "cell_type": "code",
   "execution_count": 13,
   "metadata": {},
   "outputs": [],
   "source": [
    "sol_xxx = burgers.u_xxx(x_grid, t_grid, viscosity, A)"
   ]
  },
  {
   "cell_type": "code",
   "execution_count": 14,
   "metadata": {},
   "outputs": [
    {
     "data": {
      "text/plain": [
       "[<matplotlib.lines.Line2D at 0x7f48652eb128>]"
      ]
     },
     "execution_count": 14,
     "metadata": {},
     "output_type": "execute_result"
    },
    {
     "data": {
      "image/png": "[encoded data removed]",
      "text/plain": [
       "<Figure size 432x288 with 1 Axes>"
      ]
     },
     "metadata": {
      "needs_background": "light"
     },
     "output_type": "display_data"
    }
   ],
   "source": [
    "frame = 10\n",
    "plt.plot(x, sol_xxx[:, frame], 'r')\n",
    "plt.plot(x, np.gradient(sol_xx[:, frame], x), 'k--')"
   ]
  },
  {
   "cell_type": "code",
   "execution_count": 15,
   "metadata": {},
   "outputs": [],
   "source": [
    "sol_t = burgers.u_t(x_grid, t_grid, viscosity, A)"
   ]
  },
  {
   "cell_type": "code",
   "execution_count": 16,
   "metadata": {},
   "outputs": [
    {
     "data": {
      "text/plain": [
       "[<matplotlib.lines.Line2D at 0x7f486536ae10>]"
      ]
     },
     "execution_count": 16,
     "metadata": {},
     "output_type": "execute_result"
    },
    {
     "data": {
      "image/png": "[encoded data removed]",
      "text/plain": [
       "<Figure size 432x288 with 1 Axes>"
      ]
     },
     "metadata": {
      "needs_background": "light"
     },
     "output_type": "display_data"
    }
   ],
   "source": [
    "x_slice = 566\n",
    "plt.plot(t, sol_t[x_slice, :], 'r')\n",
    "plt.plot(t, np.gradient(sol[x_slice, :], t), 'k--')"
   ]
  },
  {
   "cell_type": "code",
   "execution_count": 17,
   "metadata": {},
   "outputs": [
    {
     "data": {
      "text/plain": [
       "[<matplotlib.lines.Line2D at 0x7f48651e3748>]"
      ]
     },
     "execution_count": 17,
     "metadata": {},
     "output_type": "execute_result"
    },
    {
     "data": {
      "image/png": "[encoded data removed]",
      "text/plain": [
       "<Figure size 432x288 with 1 Axes>"
      ]
     },
     "metadata": {
      "needs_background": "light"
     },
     "output_type": "display_data"
    }
   ],
   "source": [
    "frame = 30\n",
    "plt.plot(x, sol_t[:, frame], 'r')\n",
    "plt.plot(x, np.gradient(sol, t, axis=1)[:, frame], 'k--')\n",
    "plt.plot(x, (viscosity * sol_xx - sol * sol_x)[:, frame], 'r--')"
   ]
  },
  {
   "cell_type": "code",
   "execution_count": 18,
   "metadata": {},
   "outputs": [
    {
     "data": {
      "text/plain": [
       "array([[0.00000000e+000, 4.91035732e-208, 1.73526979e-103, ...,\n",
       "        2.50448857e-003, 2.50021430e-003, 2.49595252e-003],\n",
       "       [0.00000000e+000, 3.46824216e-207, 4.64728903e-103, ...,\n",
       "        2.49577350e-003, 2.49151561e-003, 2.48727018e-003],\n",
       "       [0.00000000e+000, 2.44004220e-206, 1.24213263e-102, ...,\n",
       "        2.48703734e-003, 2.48279591e-003, 2.47856690e-003],\n",
       "       ...,\n",
       "       [0.00000000e+000, 3.62134371e-204, 1.84348827e-100, ...,\n",
       "        6.08997134e-003, 6.05980836e-003, 6.02981159e-003],\n",
       "       [0.00000000e+000, 5.14732776e-205, 6.89718846e-101, ...,\n",
       "        6.15607871e-003, 6.12563439e-003, 6.09535776e-003],\n",
       "       [0.00000000e+000, 7.28761642e-206, 2.57536871e-101, ...,\n",
       "        6.22259297e-003, 6.19186549e-003, 6.16130720e-003]])"
      ]
     },
     "execution_count": 18,
     "metadata": {},
     "output_type": "execute_result"
    }
   ],
   "source": [
    "viscosity * sol_xx - sol * sol_xx"
   ]
  },
  {
   "cell_type": "code",
   "execution_count": 19,
   "metadata": {},
   "outputs": [
    {
     "data": {
      "text/plain": [
       "False"
      ]
     },
     "execution_count": 19,
     "metadata": {},
     "output_type": "execute_result"
    }
   ],
   "source": [
    "np.allclose(sol_t[1:-1, 1:-1], np.gradient(sol, t, axis=1)[1:-1, 1:-1], atol=1e-5)"
   ]
  },
  {
   "cell_type": "code",
   "execution_count": 20,
   "metadata": {},
   "outputs": [
    {
     "data": {
      "text/plain": [
       "561472"
      ]
     },
     "execution_count": 20,
     "metadata": {},
     "output_type": "execute_result"
    }
   ],
   "source": [
    "np.argmax(np.abs(sol_t[4:-4, 4:-4] - np.gradient(sol, t, axis=1)[4:-4, 4:-4]))"
   ]
  },
  {
   "cell_type": "code",
   "execution_count": 21,
   "metadata": {},
   "outputs": [
    {
     "data": {
      "text/plain": [
       "(23, 956)"
      ]
     },
     "execution_count": 21,
     "metadata": {},
     "output_type": "execute_result"
    }
   ],
   "source": [
    "np.unravel_index(23772, sol_t[4:-4, 4:-4].shape)"
   ]
  },
  {
   "cell_type": "code",
   "execution_count": 22,
   "metadata": {},
   "outputs": [],
   "source": [
    "from DeePyMoD_SBL.data import Burgers"
   ]
  },
  {
   "cell_type": "code",
   "execution_count": null,
   "metadata": {},
   "outputs": [],
   "source": []
  }
 ],
 "metadata": {
  "kernelspec": {
   "display_name": "Python 3",
   "language": "python",
   "name": "python3"
  },
  "language_info": {
   "codemirror_mode": {
    "name": "ipython",
    "version": 3
   },
   "file_extension": ".py",
   "mimetype": "text/x-python",
   "name": "python",
   "nbconvert_exporter": "python",
   "pygments_lexer": "ipython3",
   "version": "3.6.9"
  }
 },
 "nbformat": 4,
 "nbformat_minor": 4
}
